{
 "cells": [
  {
   "cell_type": "code",
   "execution_count": 1,
   "metadata": {},
   "outputs": [],
   "source": [
    "import streamlit as st\n",
    "import pandas as pd\n",
    "import numpy as np\n",
    "from sklearn.cluster import KMeans\n",
    "from sklearn.decomposition import PCA\n",
    "import plotly.express as px\n",
    "import base64\n",
    "from requests import post, get\n",
    "import json\n",
    "import csv\n",
    "from sklearn import preprocessing"
   ]
  },
  {
   "cell_type": "code",
   "execution_count": 2,
   "metadata": {},
   "outputs": [],
   "source": [
    "client_id = 'b228ca9e4a9a4e9e9f8f4bd75768725a' ##ganti variabel dengan client_id milik anda\n",
    "client_secret = '313b9cf296124ebe9eb1122137fc4f94' ##ganti variabel dengan client_secret milik anda\n",
    "playlistId = '3rCGgxDAOuCAVwn3qwDTK1'\n",
    "\n",
    "# client_id = '97aeaf1e98f943edb1344ab86f71692a' ##ganti variabel dengan client_id milik anda\n",
    "# client_secret = '9f35e123caa7490b904ad6bcb98f4ba9' ##ganti variabel dengan client_secret milik anda\n",
    "# playlistId = '1dtCMTYzAOzwKXqklxPJNS'\n",
    "\n",
    "## 37i9dQZF1DXbrUpGvoi3TS - 1(similar sad songs)\n",
    "## 1dtCMTYzAOzwKXqklxPJNS - 2(old songs, rock, rap)\n",
    "## 0IN7IWKmIfwlEysGyWUuRg - 3(mix of modern electronic, pop, and rock)\n",
    "# 3rCGgxDAOuCAVwn3qwDTK1\n",
    "\n",
    "dataset = []\n",
    "dataset2 = []\n",
    "dataset3 = []"
   ]
  },
  {
   "cell_type": "code",
   "execution_count": 3,
   "metadata": {},
   "outputs": [],
   "source": [
    "def getToken():\n",
    "    # gabungkan client_id dan client_secret\n",
    "    auth_string = client_id + ':' + client_secret\n",
    "\n",
    "    # encode ke base64\n",
    "    auth_b64 = base64.b64encode(auth_string.encode('utf-8'))\n",
    "\n",
    "    # url untuk mengambil token\n",
    "    url = 'https://accounts.spotify.com/api/token'\n",
    "\n",
    "    # header untuk mengambil token - sesuai dengan guide dari spotify\n",
    "    headers = {\n",
    "        'Authorization': 'Basic ' + auth_b64.decode('utf-8'),\n",
    "        'Content-Type': 'application/x-www-form-urlencoded'\n",
    "    }\n",
    "\n",
    "    # data untuk mengambil token - sesuai dengan guide dari spotify\n",
    "    data = {'grant_type': 'client_credentials'}\n",
    "\n",
    "    # kirim request POST ke spotify\n",
    "    result = post(url, headers=headers, data=data)\n",
    "\n",
    "    # parse response ke json\n",
    "    json_result = json.loads(result.content)\n",
    "    token = json_result['access_token']\n",
    "\n",
    "    # ambil token untuk akses API\n",
    "    return token\n",
    "\n",
    "## panggil fungsi getToken() dibawah ini"
   ]
  },
  {
   "cell_type": "code",
   "execution_count": 4,
   "metadata": {},
   "outputs": [],
   "source": [
    "## pengambilan token untuk otorisasi API\n",
    "def getAuthHeader(token):\n",
    "    return {'Authorization': 'Bearer ' + token}"
   ]
  },
  {
   "cell_type": "code",
   "execution_count": 5,
   "metadata": {},
   "outputs": [],
   "source": [
    "## pengambilan audio features dari track (lagu)\n",
    "def getAudioFeatures(token, trackId):\n",
    "  # endpoint untuk akses playlist\n",
    "  url = f\"https://api.spotify.com/v1/audio-features/{trackId}\"\n",
    "\n",
    "  # ambil token untuk otorisasi, gunakan sebagai header\n",
    "  headers = getAuthHeader(token)\n",
    "  result = get(url, headers=headers) # kirim request GET ke spotify\n",
    "  json_result = json.loads(result.content) # parse response ke json\n",
    "\n",
    "  # ambil data yang diperlukan dari response\n",
    "  audio_features_temp = [\n",
    "    json_result['danceability'],\n",
    "    json_result['energy'],\n",
    "    json_result['key'],\n",
    "    json_result['loudness'],\n",
    "    json_result['mode'],\n",
    "    json_result['speechiness'],\n",
    "    json_result['acousticness'],\n",
    "    json_result['instrumentalness'],\n",
    "    json_result['liveness'],\n",
    "    json_result['valence'],\n",
    "    json_result['tempo'],\n",
    "  ]\n",
    "\n",
    "  dataset2.append(audio_features_temp)"
   ]
  },
  {
   "cell_type": "code",
   "execution_count": null,
   "metadata": {},
   "outputs": [
    {
     "name": "stdout",
     "output_type": "stream",
     "text": [
      "c:\\Users\\VIVOBOOK\\Documents\\Coolyeah\\mining2\\Kasus_3\n"
     ]
    }
   ],
   "source": [
    "def getPlaylistItems(token, playlistId):\n",
    "  # endpoint untuk akses playlist\n",
    "  url = f\"https://api.spotify.com/v1/playlists/{playlistId}/tracks\"\n",
    "  limit = \"&limit=100\" # batas maksimal track yang diambil\n",
    "  market = \"?market=ID\" # negara yang tempat aplikasi diakses\n",
    "\n",
    "  # format data dari track yang diambil\n",
    "  fields = \"&fields=items%28track%28id%2Cname%2Cartists%2Cpopularity%2C+duration_ms%2C+album%\"\n",
    "  url = url+market+fields+limit # gabungkan semua parameter\n",
    "\n",
    "  # ambil token untuk otorisasi, gunakan sebagai header\n",
    "  headers = getAuthHeader(token)\n",
    "  result = get(url, headers=headers) # kirim request GET ke spotify\n",
    "  json_result = json.loads(result.content) # parse response ke json\n",
    "  # print(json_result)\n",
    "\n",
    "  # ambil data yang diperlukan dari response\n",
    "  for i in range(len(json_result['items'])):\n",
    "    playlist_items_temp = []\n",
    "\n",
    "    playlist_items_temp.append(json_result['items'][i]['track']['id'])\n",
    "    playlist_items_temp.append(json_result['items'][i]['track']['name'].encode('utf-8'))\n",
    "    playlist_items_temp.append(json_result['items'][i]['track']['artists'][0]['name'].encode('utf-8'))\n",
    "    playlist_items_temp.append(json_result['items'][i]['track']['popularity'])\n",
    "    playlist_items_temp.append(json_result['items'][i]['track']['duration_ms'])\n",
    "    playlist_items_temp.append(int(json_result['items'][i]['track']['album']['release_date'][0:4]))\n",
    "\n",
    "    dataset.append(playlist_items_temp)\n",
    "\n",
    "  for i in range(len(dataset)):\n",
    "    getAudioFeatures(token, dataset[i][0])\n",
    "\n",
    "  # gabungkan dataset dan dataset2\n",
    "  for i in range(len(dataset)):\n",
    "    dataset3.append(dataset[i]+dataset2[i])\n",
    "\n",
    "  print(dataset3)\n",
    "\n",
    "  # convert dataset3 into csv\n",
    "  with open('dataset.csv', 'w', newline='') as file:\n",
    "    writer = csv.writer(file)\n",
    "    writer.writerow([\"id\", \"name\", \"artist\", \"popularity\", \"duration_ms\", \"year\", \"danceability\", \"speechiness\", \"acousticness\", \"instrumentalness\", \"liveness\", \"valence\"])\n",
    "    writer.writerows(dataset3)\n",
    "    df.to_csv(\"dataset.csv\", index=False)\n"
   ]
  },
  {
   "cell_type": "code",
   "execution_count": null,
   "metadata": {},
   "outputs": [],
   "source": []
  }
 ],
 "metadata": {
  "kernelspec": {
   "display_name": "Python 3",
   "language": "python",
   "name": "python3"
  },
  "language_info": {
   "codemirror_mode": {
    "name": "ipython",
    "version": 3
   },
   "file_extension": ".py",
   "mimetype": "text/x-python",
   "name": "python",
   "nbconvert_exporter": "python",
   "pygments_lexer": "ipython3",
   "version": "3.12.6"
  }
 },
 "nbformat": 4,
 "nbformat_minor": 2
}
